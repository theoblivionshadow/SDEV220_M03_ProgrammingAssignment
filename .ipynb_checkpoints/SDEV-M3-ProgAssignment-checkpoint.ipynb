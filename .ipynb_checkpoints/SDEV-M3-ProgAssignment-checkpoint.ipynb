{
 "cells": [
  {
   "cell_type": "code",
   "execution_count": null,
   "id": "5acf95f5-5919-4c85-ba0a-65759a3cdea2",
   "metadata": {},
   "outputs": [],
   "source": [
    "'''\n",
    "Shadow R.\n",
    "M03-ProgrammingAssignment.py\n",
    "SDEV 220 M03 - Programming Assignment\n",
    "    Things To Do: 7.4-7.7 and 9.1-9.2\n",
    "'''"
   ]
  },
  {
   "cell_type": "markdown",
   "id": "25e68aa6-1b31-459d-bf61-33cb2003b01f",
   "metadata": {},
   "source": [
    "7.4 Make a list called things with these three strings as elements: \"mozzarella\", \"cinderella\", \"salmonella\"."
   ]
  },
  {
   "cell_type": "code",
   "execution_count": null,
   "id": "42d2691b-f8f3-45d5-93d8-3401fb48c32b",
   "metadata": {},
   "outputs": [],
   "source": [
    "#define list\n",
    "things = [\"mozzarella\", \"cinderella\", \"salmonella\"]"
   ]
  },
  {
   "cell_type": "markdown",
   "id": "d7e5d967-f9c4-48d3-8a96-4d029bc96547",
   "metadata": {},
   "source": [
    "7.5 Capitalize the element in things that refers to a person and then print the list. Did it change the element in the list?"
   ]
  },
  {
   "cell_type": "code",
   "execution_count": 41,
   "id": "fb1c137b-17af-40f2-8979-0b6967cf1b74",
   "metadata": {},
   "outputs": [
    {
     "name": "stdout",
     "output_type": "stream",
     "text": [
      "['mozzarella', 'Cinderella', 'salmonella']\n"
     ]
    }
   ],
   "source": [
    "#define list\n",
    "things = [\"mozzarella\", \"cinderella\", \"salmonella\"]\n",
    "\n",
    "#update list\n",
    "things[1] = \"Cinderella\" #could also use things[1] = things[1].capitalize()\n",
    "\n",
    "#print updated list\n",
    "print(things)"
   ]
  },
  {
   "cell_type": "markdown",
   "id": "9836e707-c81d-4427-9127-f29b77a63e0c",
   "metadata": {},
   "source": [
    "7.6 Make the cheesy element of things all uppercase and then print the list."
   ]
  },
  {
   "cell_type": "code",
   "execution_count": 42,
   "id": "c1fe38cf-f5b5-4e0b-8b90-d27c627d240f",
   "metadata": {},
   "outputs": [
    {
     "name": "stdout",
     "output_type": "stream",
     "text": [
      "['MOZZARELLA', 'cinderella', 'salmonella']\n"
     ]
    }
   ],
   "source": [
    "#define list\n",
    "things = [\"mozzarella\", \"cinderella\", \"salmonella\"]\n",
    "\n",
    "#update cheese to uppercase\n",
    "things[0] = things[0].upper()\n",
    "\n",
    "#print updated list\n",
    "print(things)"
   ]
  },
  {
   "cell_type": "markdown",
   "id": "2b2a57b3-1f73-4cf3-80a7-7d6dd90df482",
   "metadata": {},
   "source": [
    "7.7 Delete the disease element from things, collect your Nobel Prize, and print the list."
   ]
  },
  {
   "cell_type": "code",
   "execution_count": 43,
   "id": "2becda0f-d119-43b6-8c48-2cea15fc8a23",
   "metadata": {},
   "outputs": [
    {
     "name": "stdout",
     "output_type": "stream",
     "text": [
      "['mozzarella', 'cinderella']\n"
     ]
    }
   ],
   "source": [
    "#define list\n",
    "things = [\"mozzarella\", \"cinderella\", \"salmonella\"]\n",
    "\n",
    "#remove disease from list\n",
    "things.remove(\"salmonella\") #could also use things.pop(2)\n",
    "\n",
    "#print updated list\n",
    "print(things)"
   ]
  },
  {
   "cell_type": "markdown",
   "id": "91b42b23-da10-44b8-aca0-2a91002c8722",
   "metadata": {},
   "source": [
    "9.1 Define a function called good() that returns the following list: ['Harry', 'Ron', 'Hermione']."
   ]
  },
  {
   "cell_type": "code",
   "execution_count": 44,
   "id": "3ada6cb4-ebc0-4c1b-805e-c5b4fcef72ef",
   "metadata": {},
   "outputs": [
    {
     "data": {
      "text/plain": [
       "['Harry', 'Ron', 'Hermione']"
      ]
     },
     "execution_count": 44,
     "metadata": {},
     "output_type": "execute_result"
    }
   ],
   "source": [
    "#def function with list\n",
    "def good():\n",
    "    list = ['Harry', 'Ron', 'Hermione']\n",
    "    return list\n",
    "\n",
    "#call function\n",
    "good()"
   ]
  },
  {
   "cell_type": "markdown",
   "id": "99f2b7b8-2931-4ced-aacd-39294438832d",
   "metadata": {},
   "source": [
    "9.2 Define a generator function called get_odds() that returns the odd numbers from range(10). Use a for loop to find and print the third value returned."
   ]
  },
  {
   "cell_type": "code",
   "execution_count": 45,
   "id": "c7699773-7ffb-4fc2-8d5d-e503f6df20a3",
   "metadata": {},
   "outputs": [
    {
     "name": "stdout",
     "output_type": "stream",
     "text": [
      "The third odd number is: 5\n"
     ]
    }
   ],
   "source": [
    "#define funciton to get odd numbers\n",
    "def get_odds():\n",
    "    for number in range(10): #limit range\n",
    "        if number % 2 == 1: #check if odd\n",
    "            yield number #return number\n",
    "\n",
    "odd_numbers = [] #empty list to store odd numbers from func\n",
    "\n",
    "#for loop to find 3rd odd number\n",
    "for item in get_odds():\n",
    "    odd_numbers.append(item) #add item to list\n",
    "    if len(odd_numbers) == 3: #check length of list, if it ='s 3...\n",
    "        print(\"The third odd number is:\", item) #... print 3rd odd number"
   ]
  }
 ],
 "metadata": {
  "kernelspec": {
   "display_name": "Python 3 (ipykernel)",
   "language": "python",
   "name": "python3"
  },
  "language_info": {
   "codemirror_mode": {
    "name": "ipython",
    "version": 3
   },
   "file_extension": ".py",
   "mimetype": "text/x-python",
   "name": "python",
   "nbconvert_exporter": "python",
   "pygments_lexer": "ipython3",
   "version": "3.10.9"
  }
 },
 "nbformat": 4,
 "nbformat_minor": 5
}
